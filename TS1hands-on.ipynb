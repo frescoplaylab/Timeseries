{
 "cells": [
  {
   "cell_type": "markdown",
   "metadata": {},
   "source": [
    "Welcome to the first hands on on time series analysis.Follow the instruction provided for each cell to complete the handson. We have created this Python Notebook with all the necessary things needed for completing this exercise. You have to write your code in between the are mentioned\n",
    "### Start Code\n",
    "Your Code here\n",
    "### End Code\n",
    "\n",
    "To run the code in each cell click on the cell and press **shift + enter** "
   ]
  },
  {
   "cell_type": "markdown",
   "metadata": {},
   "source": [
    "- Run the below to import the data for this hands-on\n",
    "- The data contains All stocks in the S&P 500 index, and their historical prices for the year 2011"
   ]
  },
  {
   "cell_type": "code",
   "execution_count": null,
   "metadata": {},
   "outputs": [],
   "source": [
    "import pandas as pd\n",
    "dataFrame = pd.read_csv('dow_jones_index.data',parse_dates=[\"date\"], index_col=\"date\")\n",
    "dataFrame.head()"
   ]
  },
  {
   "cell_type": "markdown",
   "metadata": {},
   "source": [
    "Run the below cell to filter the closing price related to stock 'AA'"
   ]
  },
  {
   "cell_type": "code",
   "execution_count": 12,
   "metadata": {
    "collapsed": true
   },
   "outputs": [],
   "source": [
    "closeTS = dataFrame[(dataFrame.stock == 'AA')].close.str.replace('$',' ').astype(float)"
   ]
  },
  {
   "cell_type": "markdown",
   "metadata": {},
   "source": [
    "- Using the data filtered in the above step list all the closing price from **jan to march**\n",
    "- assign the resulting series to variable 'close_AA'"
   ]
  },
  {
   "cell_type": "code",
   "execution_count": 13,
   "metadata": {
    "collapsed": true
   },
   "outputs": [],
   "source": [
    "###Start code here\n",
    "close_AA = \n",
    "print (close_AA)",
    "###End code(approx 1 line)\n",
    "close_AA.to_csv(\"output.txt\")"
   ]
  }
 ],
 "metadata": {
  "kernelspec": {
   "display_name": "Python 3",
   "language": "python",
   "name": "python3"
  },
  "language_info": {
   "codemirror_mode": {
    "name": "ipython",
    "version": 3
   },
   "file_extension": ".py",
   "mimetype": "text/x-python",
   "name": "python",
   "nbconvert_exporter": "python",
   "pygments_lexer": "ipython3",
   "version": "3.6.3"
  }
 },
 "nbformat": 4,
 "nbformat_minor": 2
}
